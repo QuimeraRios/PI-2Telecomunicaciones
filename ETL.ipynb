{
 "cells": [
  {
   "cell_type": "code",
   "execution_count": 1,
   "metadata": {},
   "outputs": [],
   "source": [
    "import pandas as pd\n",
    "import matplotlib.pyplot as plt\n",
    "import seaborn as sns\n",
    "import streamlit as st\n",
    "import glob\n"
   ]
  },
  {
   "cell_type": "code",
   "execution_count": null,
   "metadata": {},
   "outputs": [],
   "source": [
    "dataset = dfs[0]\n",
    "for i in range(1, len(dfs)):\n",
    "    dataset = pd.merge(dataset, dfs[i], on=['año', 'provincia', 'trimestre'])\n"
   ]
  },
  {
   "cell_type": "code",
   "execution_count": null,
   "metadata": {},
   "outputs": [],
   "source": [
    "import pandas as pd\n",
    "import glob\n",
    "\n",
    "archivos = glob.glob(\"*.xlsx\") # lista todos los archivos xlsx en el directorio actual\n",
    "archivos_seleccionados = [\"1.xlsx\", \"4.xlsx\", \"6.xlsx\", \"8.xlsx\", \"10.xlsx\", \"11.xlsx\"]\n",
    "archivos_lectura = [archivo for archivo in archivos if archivo in archivos_seleccionados]\n",
    "\n",
    "dfs = []\n",
    "for archivo in archivos_lectura:\n",
    "    df = pd.read_excel(archivo)\n",
    "    dfs.append(df)\n",
    "\n",
    "# Realizar merge solo para las columnas comunes\n",
    "if len(dfs) > 0:\n",
    "    dataset = dfs[0]\n",
    "    for i in range(1, len(dfs)):\n",
    "        dataset = pd.merge(dataset, dfs[i], on=['año', 'provincia', 'trimestre'])\n",
    "else:\n",
    "    print(\"No se encontraron archivos de Excel que cumplan con los criterios de selección.\")\n"
   ]
  },
  {
   "cell_type": "code",
   "execution_count": 2,
   "metadata": {},
   "outputs": [
    {
     "name": "stderr",
     "output_type": "stream",
     "text": [
      "2023-04-19 18:20:53.682 \n",
      "  \u001b[33m\u001b[1mWarning:\u001b[0m to view this Streamlit app on a browser, run it with the following\n",
      "  command:\n",
      "\n",
      "    streamlit run e:\\DataScience\\Labs\\PI-2\\telecom_venv\\lib\\site-packages\\ipykernel_launcher.py [ARGUMENTS]\n"
     ]
    },
    {
     "data": {
      "text/plain": [
       "DeltaGenerator(_root_container=0, _provided_cursor=None, _parent=None, _block_type=None, _form_data=None)"
      ]
     },
     "execution_count": 2,
     "metadata": {},
     "output_type": "execute_result"
    }
   ],
   "source": [
    "st.title('Introducción a la aplicación')"
   ]
  },
  {
   "cell_type": "code",
   "execution_count": null,
   "metadata": {},
   "outputs": [],
   "source": [
    "\n"
   ]
  },
  {
   "cell_type": "code",
   "execution_count": 14,
   "metadata": {},
   "outputs": [
    {
     "name": "stdout",
     "output_type": "stream",
     "text": [
      "<class 'pandas.core.frame.DataFrame'>\n",
      "RangeIndex: 841 entries, 0 to 840\n",
      "Data columns (total 4 columns):\n",
      " #   Column  Non-Null Count  Dtype \n",
      "---  ------  --------------  ----- \n",
      " 0   0       841 non-null    object\n",
      " 1   1       841 non-null    object\n",
      " 2   2       841 non-null    object\n",
      " 3   3       841 non-null    object\n",
      "dtypes: object(4)\n",
      "memory usage: 26.4+ KB\n"
     ]
    }
   ],
   "source": [
    "import pandas as pd\n",
    "\n",
    "# especificamos las columnas que queremos leer\n",
    "fields = ['año', 'provincia', 'trimestre', 'acceso']\n",
    "\n",
    "\n",
    "# cargamos el dataframe solo con esas columnas\n",
    "df = pd.read_json('E:/DataScience/Labs/PI-2/Datasets/Internet/Internet_Penetracionxprovincia.ajson')\n",
    "\n",
    "df.info()\n",
    "\n",
    "# eliminamos las filas duplicadas (si es necesario)\n",
    "#df.drop_duplicates(inplace=True)\n"
   ]
  },
  {
   "cell_type": "code",
   "execution_count": null,
   "metadata": {},
   "outputs": [],
   "source": [
    "acceso_limite = 124.05\n",
    "fig=plt.figure(figsize=(6,4))\n",
    "sns.scatterplot(x='acceso', y = 'trimestre', data= df[df['acceso'<acceso_limite]])\n",
    "plt.title('Gráfico de dispersión entre acceso y trimestre')\n",
    "plt.show"
   ]
  }
 ],
 "metadata": {
  "kernelspec": {
   "display_name": "telecom_venv",
   "language": "python",
   "name": "python3"
  },
  "language_info": {
   "codemirror_mode": {
    "name": "ipython",
    "version": 3
   },
   "file_extension": ".py",
   "mimetype": "text/x-python",
   "name": "python",
   "nbconvert_exporter": "python",
   "pygments_lexer": "ipython3",
   "version": "3.9.7"
  },
  "orig_nbformat": 4
 },
 "nbformat": 4,
 "nbformat_minor": 2
}
